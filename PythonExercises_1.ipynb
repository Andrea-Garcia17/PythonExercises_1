{
  "nbformat": 4,
  "nbformat_minor": 0,
  "metadata": {
    "colab": {
      "provenance": [],
      "authorship_tag": "ABX9TyN4OkmFqg5SnGpeUg+Lw8NY",
      "include_colab_link": true
    },
    "kernelspec": {
      "name": "python3",
      "display_name": "Python 3"
    },
    "language_info": {
      "name": "python"
    }
  },
  "cells": [
    {
      "cell_type": "markdown",
      "metadata": {
        "id": "view-in-github",
        "colab_type": "text"
      },
      "source": [
        "<a href=\"https://colab.research.google.com/github/Andrea-Garcia17/PythonExercises_1/blob/main/PythonExercises_1.ipynb\" target=\"_parent\"><img src=\"https://colab.research.google.com/assets/colab-badge.svg\" alt=\"Open In Colab\"/></a>"
      ]
    },
    {
      "cell_type": "code",
      "execution_count": null,
      "metadata": {
        "colab": {
          "base_uri": "https://localhost:8080/"
        },
        "id": "hZhwCJrLQA6N",
        "outputId": "9a83ea78-cccd-43f9-ffcf-ccf959947669"
      },
      "outputs": [
        {
          "output_type": "stream",
          "name": "stdout",
          "text": [
            "Give me a number - 90\n",
            "Its lower. Try again\n",
            "Give me a number - 53\n",
            "Its higher. Try again\n",
            "Give me a number -67\n",
            "Its higher. Try again\n",
            "Give me a number -52\n",
            "Its higher. Try again\n",
            "Give me a number -90\n",
            "Its lower. Try again\n",
            "Give me a number - 78\n",
            "Its higher. Try again\n",
            "Give me a number -80\n",
            "Its higher. Try again\n",
            "Give me a number -85\n",
            "Its higher. Try again\n",
            "Give me a number -87\n",
            "Its higher. Try again\n",
            "Give me a number -86\n",
            "Its higher. Try again\n",
            "Give me a number -89\n",
            "You did it! The number is 89\n"
          ]
        }
      ],
      "source": [
        "import numpy as np\n",
        "a= np.random.randint(1,100)\n",
        "guess = int(input(\"Give me a number - \"))\n",
        "\n",
        "while guess != a:\n",
        "       if guess < a:\n",
        "         print(\"Its higher. Try again\")\n",
        "         guess = int(input(\"Give me a number -\"))\n",
        "       if guess > a:\n",
        "        print(\"Its lower. Try again\")\n",
        "        guess = int(input(\"Give me a number - \"))\n",
        "\n",
        "if guess== a:\n",
        "  print(\"You did it! The number is \" + str(guess))\n"
      ]
    },
    {
      "cell_type": "code",
      "source": [
        "import random\n",
        "\n",
        "DB =[\"perro\", \"chiva\", \"gato\", \"pez\", \"lombriz\"]\n",
        "\n",
        "a = random.choice(DB)\n",
        "print(a)\n",
        "\n",
        "print(\"Try to find the word. You have 10 lifes\")\n",
        "print(\" \")\n",
        "print(\"The word have \" + str(len(a)) + \" letters\")\n",
        "print(\" \")\n",
        "\n",
        "b = str(input(\"Try a letter - \"))\n",
        "print(\" \")\n",
        "\n",
        "i = 10\n",
        "while b in a:\n",
        "  if b in a:\n",
        "    print(\"The letter is in the word!\")\n",
        "    print(\"You have \" + str(i) + \" lifes\")\n",
        "    print(\" \")\n",
        "\n",
        "  if b not in a:\n",
        "    print(\"You lose 1 life, try again\")\n",
        "    print(\"You have \" + str(i) + \"lifes\")\n",
        "    print(\" \")\n",
        "    i = i-1\n",
        "    b = str(input(\"Try a letter - \"))\n",
        "\n",
        "  if i == 10:\n",
        "    print(\"You have no more tries\")\n",
        "    break\n",
        "\n",
        "g = str(input(\"Try a word - \"))\n",
        "print(\" \")\n",
        "\n",
        "if g == a:\n",
        "  print(\"You WIN!!\")\n",
        "if g != a:\n",
        "  print(\"You Lose :(\")"
      ],
      "metadata": {
        "colab": {
          "base_uri": "https://localhost:8080/"
        },
        "id": "aS5iSm9RUDWc",
        "outputId": "cca02faa-1b2d-4804-acd9-f40ea96a1493"
      },
      "execution_count": 14,
      "outputs": [
        {
          "output_type": "stream",
          "name": "stdout",
          "text": [
            "lombriz\n",
            "Try to find the word. You have 10 lifes\n",
            " \n",
            "The word have 7 letters\n",
            " \n",
            "Try a letter - a\n",
            " \n",
            "Try a word - g\n",
            " \n",
            "You Lose :(\n"
          ]
        }
      ]
    },
    {
      "cell_type": "code",
      "source": [
        "import re\n",
        "from collections import Counter\n",
        "\n",
        "def read_text_file(filename):\n",
        "    try:\n",
        "        with open(filename, 'r', encoding='utf-8') as file:\n",
        "            text = file.read()\n",
        "        return text\n",
        "    except FileNotFoundError:\n",
        "        print(f\"File '{filename}' not found.\")\n",
        "        return None\n",
        "\n",
        "def count_words(text):\n",
        "    words = re.findall(r'\\w+', text)\n",
        "    return len(words)\n",
        "\n",
        "def count_sentences(text):\n",
        "    sentences = re.split(r'[.!?]', text)\n",
        "    return len(sentences)\n",
        "\n",
        "def count_paragraphs(text):\n",
        "    paragraphs = re.split(r'\\n\\n', text)\n",
        "    return len(paragraphs)\n",
        "\n",
        "def average_word_length(text):\n",
        "    words = re.findall(r'\\w+', text)\n",
        "    total_length = sum(len(word) for word in words)\n",
        "    return total_length / len(words) if len(words) > 0 else 0\n",
        "\n",
        "def most_common_words(text, num_words=10):\n",
        "    words = re.findall(r'\\w+', text)\n",
        "    word_counts = Counter(words)\n",
        "    return word_counts.most_common(num_words)\n",
        "# Enter the path to your text file on Google Drive\n",
        "file_path = /Problema1.txt'\n",
        "\n",
        "# Read the text file\n",
        "text = read_text_file(file_path)\n",
        "\n",
        "if text:\n",
        "    num_words = count_words(text)\n",
        "    num_sentences = count_sentences(text)\n",
        "    num_paragraphs = count_paragraphs(text)\n",
        "    avg_word_length = average_word_length(text)\n",
        "    common_words = most_common_words(text)\n",
        "\n",
        "    print(f\"Number of words: {num_words}\")\n",
        "    print(f\"Number of sentences: {num_sentences}\")\n",
        "    print(f\"Number of paragraphs: {num_paragraphs}\")\n",
        "    print(f\"Average word length: {avg_word_length:.2f}\")\n",
        "    print(\"Most common words:\")\n",
        "    for word, freq in common_words:\n",
        "        print(f\"{word}: {freq}\")"
      ],
      "metadata": {
        "colab": {
          "base_uri": "https://localhost:8080/",
          "height": 140
        },
        "id": "_G8g_HobUoPL",
        "outputId": "262d8404-e9c9-4962-a83a-dfdf865efbb8"
      },
      "execution_count": 26,
      "outputs": [
        {
          "output_type": "error",
          "ename": "SyntaxError",
          "evalue": "ignored",
          "traceback": [
            "\u001b[0;36m  File \u001b[0;32m\"<ipython-input-26-2f91cf14ff1c>\"\u001b[0;36m, line \u001b[0;32m35\u001b[0m\n\u001b[0;31m    file_path = /Problema1.txt'\u001b[0m\n\u001b[0m                              ^\u001b[0m\n\u001b[0;31mSyntaxError\u001b[0m\u001b[0;31m:\u001b[0m unterminated string literal (detected at line 35)\n"
          ]
        }
      ]
    }
  ]
}