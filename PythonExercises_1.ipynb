{
  "nbformat": 4,
  "nbformat_minor": 0,
  "metadata": {
    "colab": {
      "provenance": [],
      "authorship_tag": "ABX9TyNhFsRpt3eL/6PxyTHzSvO4",
      "include_colab_link": true
    },
    "kernelspec": {
      "name": "python3",
      "display_name": "Python 3"
    },
    "language_info": {
      "name": "python"
    }
  },
  "cells": [
    {
      "cell_type": "markdown",
      "metadata": {
        "id": "view-in-github",
        "colab_type": "text"
      },
      "source": [
        "<a href=\"https://colab.research.google.com/github/Andrea-Garcia17/PythonExercises_1/blob/main/PythonExercises_1.ipynb\" target=\"_parent\"><img src=\"https://colab.research.google.com/assets/colab-badge.svg\" alt=\"Open In Colab\"/></a>"
      ]
    },
    {
      "cell_type": "code",
      "execution_count": null,
      "metadata": {
        "colab": {
          "base_uri": "https://localhost:8080/"
        },
        "id": "hZhwCJrLQA6N",
        "outputId": "9a83ea78-cccd-43f9-ffcf-ccf959947669"
      },
      "outputs": [
        {
          "output_type": "stream",
          "name": "stdout",
          "text": [
            "Give me a number - 90\n",
            "Its lower. Try again\n",
            "Give me a number - 53\n",
            "Its higher. Try again\n",
            "Give me a number -67\n",
            "Its higher. Try again\n",
            "Give me a number -52\n",
            "Its higher. Try again\n",
            "Give me a number -90\n",
            "Its lower. Try again\n",
            "Give me a number - 78\n",
            "Its higher. Try again\n",
            "Give me a number -80\n",
            "Its higher. Try again\n",
            "Give me a number -85\n",
            "Its higher. Try again\n",
            "Give me a number -87\n",
            "Its higher. Try again\n",
            "Give me a number -86\n",
            "Its higher. Try again\n",
            "Give me a number -89\n",
            "You did it! The number is 89\n"
          ]
        }
      ],
      "source": [
        "import numpy as np\n",
        "a= np.random.randint(1,100)\n",
        "guess = int(input(\"Give me a number - \"))\n",
        "\n",
        "while guess != a:\n",
        "       if guess < a:\n",
        "         print(\"Its higher. Try again\")\n",
        "         guess = int(input(\"Give me a number -\"))\n",
        "       if guess > a:\n",
        "        print(\"Its lower. Try again\")\n",
        "        guess = int(input(\"Give me a number - \"))\n",
        "\n",
        "if guess== a:\n",
        "  print(\"You did it! The number is \" + str(guess))\n"
      ]
    },
    {
      "cell_type": "code",
      "source": [
        "import random\n",
        "\n",
        "DB =[\"perro\", \"chiva\", \"gato\", \"pez\", \"lombriz\"]\n",
        "\n",
        "a = random.choice(DB)\n",
        "print(a)\n",
        "\n",
        "print(\"Try to find the word. You have 10 lifes\")\n",
        "print(\" \")\n",
        "print(\"The word have \" + str(len(a)) + \" letters\")\n",
        "print(\" \")\n",
        "\n",
        "b = str(input(\"Try a letter - \"))\n",
        "print(\" \")\n",
        "\n",
        "i = 10\n",
        "while b in a:\n",
        "  if b in a:\n",
        "    print(\"The letter is in the word!\")\n",
        "    print(\"You have \" + str(i) + \" lifes\")\n",
        "    print(\" \")\n",
        "\n",
        "  if b not in a:\n",
        "    print(\"You lose 1 life, try again\")\n",
        "    print(\"You have \" + str(i) + \"lifes\")\n",
        "    print(\" \")\n",
        "    i = i-1\n",
        "    b = str(input(\"Try a letter - \"))\n",
        "\n",
        "  if i == 10:\n",
        "    print(\"You have no more tries\")\n",
        "    break\n",
        "\n",
        "g = str(input(\"Try a word - \"))\n",
        "print(\" \")\n",
        "\n",
        "if g == a:\n",
        "  print(\"You WIN!!\")\n",
        "if g != a:\n",
        "  print(\"You Lose :(\")"
      ],
      "metadata": {
        "colab": {
          "base_uri": "https://localhost:8080/"
        },
        "id": "aS5iSm9RUDWc",
        "outputId": "cca02faa-1b2d-4804-acd9-f40ea96a1493"
      },
      "execution_count": 14,
      "outputs": [
        {
          "output_type": "stream",
          "name": "stdout",
          "text": [
            "lombriz\n",
            "Try to find the word. You have 10 lifes\n",
            " \n",
            "The word have 7 letters\n",
            " \n",
            "Try a letter - a\n",
            " \n",
            "Try a word - g\n",
            " \n",
            "You Lose :(\n"
          ]
        }
      ]
    },
    {
      "cell_type": "code",
      "source": [],
      "metadata": {
        "id": "_G8g_HobUoPL"
      },
      "execution_count": null,
      "outputs": []
    }
  ]
}